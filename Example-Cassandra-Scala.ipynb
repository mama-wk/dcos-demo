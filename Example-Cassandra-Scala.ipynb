{
 "cells": [
  {
   "cell_type": "code",
   "execution_count": null,
   "metadata": {},
   "outputs": [],
   "source": [
    "%%classpath add mvn\n",
    "org.apache.spark spark-sql_2.11 2.2.1\n",
    "com.datastax.spark spark-cassandra-connector_2.11 2.4.0"
   ]
  },
  {
   "cell_type": "code",
   "execution_count": null,
   "metadata": {},
   "outputs": [],
   "source": [
    "%%spark --start\n",
    "import org.apache.spark.SparkConf\n",
    "val jars = ClasspathManager.getJars().toArray.mkString(\",\")\n",
    "val conf = new SparkConf().setAppName(getClass.getName)\n",
    "conf.set(\"spark.cassandra.connection.host\", \"node-0-server.cassandra.autoip.dcos.thisdcos.directory\")\n",
    "conf.set(\"spark.cassandra.connection.port\", \"9042\")\n",
    "conf.set(\"spark.jars\", jars)\n",
    "SparkSession.builder().config(conf)"
   ]
  },
  {
   "cell_type": "code",
   "execution_count": null,
   "metadata": {},
   "outputs": [],
   "source": [
    "import com.datastax.spark.connector._ //Loads implicit functions\n",
    "import org.apache.spark.SparkContext\n",
    "val table = sc.cassandraTable(\"dcos\", \"tweets\")"
   ]
  },
  {
   "cell_type": "code",
   "execution_count": null,
   "metadata": {},
   "outputs": [],
   "source": [
    "table.take(10).toArray.foreach(println)"
   ]
  }
 ],
 "metadata": {
  "kernelspec": {
   "display_name": "Scala",
   "language": "scala",
   "name": "scala"
  },
  "language_info": {
   "codemirror_mode": "text/x-scala",
   "file_extension": ".scala",
   "mimetype": "",
   "name": "Scala",
   "nbconverter_exporter": "",
   "version": "2.11.12"
  }
 },
 "nbformat": 4,
 "nbformat_minor": 2
}
