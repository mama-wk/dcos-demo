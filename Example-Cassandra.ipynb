{
 "cells": [
  {
   "cell_type": "code",
   "execution_count": 1,
   "metadata": {},
   "outputs": [],
   "source": [
    "from pyspark import SparkContext, SparkConf\n",
    "from pyspark.sql import SQLContext\n",
    "from pyspark.sql.session import SparkSession"
   ]
  },
  {
   "cell_type": "code",
   "execution_count": 2,
   "metadata": {},
   "outputs": [
    {
     "name": "stdout",
     "output_type": "stream",
     "text": [
      "<pyspark.conf.SparkConf object at 0x7efd587c4e80>\n"
     ]
    }
   ],
   "source": [
    "# Create config for spark context with cassandra connection info\n",
    "conf = SparkConf().setAppName(\"cassandra-python\")\n",
    "conf.set(\"spark.cassandra.connection.host\", \"node-0-server.cassandra.autoip.dcos.thisdcos.directory\")\n",
    "conf.set(\"spark.cassandra.connection.port\", \"9042\")\n",
    "print(conf)"
   ]
  },
  {
   "cell_type": "code",
   "execution_count": 3,
   "metadata": {},
   "outputs": [
    {
     "name": "stderr",
     "output_type": "stream",
     "text": [
      "Exception in thread Thread-4:\n",
      "Traceback (most recent call last):\n",
      "  File \"/opt/conda/lib/python3.6/threading.py\", line 916, in _bootstrap_inner\n",
      "    self.run()\n",
      "  File \"/opt/conda/lib/python3.6/site-packages/sparkmonitor/kernelextension.py\", line 117, in run\n",
      "    self.onrecv(msg)\n",
      "  File \"/opt/conda/lib/python3.6/site-packages/sparkmonitor/kernelextension.py\", line 134, in onrecv\n",
      "    \"msg\": msg\n",
      "  File \"/opt/conda/lib/python3.6/site-packages/sparkmonitor/kernelextension.py\", line 214, in sendToFrontEnd\n",
      "    monitor.send(msg)\n",
      "  File \"/opt/conda/lib/python3.6/site-packages/sparkmonitor/kernelextension.py\", line 51, in send\n",
      "    self.comm.send(msg)\n",
      "AttributeError: 'ScalaMonitor' object has no attribute 'comm'\n",
      "\n"
     ]
    },
    {
     "name": "stdout",
     "output_type": "stream",
     "text": [
      "<SparkContext master=mesos://zk://zk-1.zk:2181,zk-2.zk:2181,zk-3.zk:2181,zk-4.zk:2181,zk-5.zk:2181/mesos appName=cassandra-python>\n"
     ]
    }
   ],
   "source": [
    "# Create spark context\n",
    "sc = SparkContext(conf=conf)\n",
    "print(sc)"
   ]
  },
  {
   "cell_type": "code",
   "execution_count": null,
   "metadata": {},
   "outputs": [],
   "source": [
    "# Create spark session\n",
    "spark = SparkSession(sc)\n",
    "print(spark)"
   ]
  },
  {
   "cell_type": "code",
   "execution_count": null,
   "metadata": {},
   "outputs": [],
   "source": [
    "# Load the table info from cassandra\n",
    "load_options = { \"table\": \"tweets\", \"keyspace\": \"dcos\" }\n",
    "df = spark.read.format(\"org.apache.spark.sql.cassandra\").options(**load_options).load()\n",
    "df.printSchema()"
   ]
  },
  {
   "cell_type": "code",
   "execution_count": null,
   "metadata": {},
   "outputs": [],
   "source": [
    "# Create a view in the dataframe which will hold the table data\n",
    "df.createOrReplaceTempView(\"tweets\")\n",
    "# Load some data from cassandra\n",
    "df = spark.sql(\"select * from tweets limit 10\");\n",
    "# Display the data\n",
    "df.show()"
   ]
  },
  {
   "cell_type": "code",
   "execution_count": null,
   "metadata": {},
   "outputs": [],
   "source": [
    "# Close the spark context\n",
    "sc.stop()"
   ]
  },
  {
   "cell_type": "code",
   "execution_count": null,
   "metadata": {},
   "outputs": [],
   "source": []
  }
 ],
 "metadata": {
  "kernelspec": {
   "display_name": "Python 3",
   "language": "python",
   "name": "python3"
  },
  "language_info": {
   "codemirror_mode": {
    "name": "ipython",
    "version": 3
   },
   "file_extension": ".py",
   "mimetype": "text/x-python",
   "name": "python",
   "nbconvert_exporter": "python",
   "pygments_lexer": "ipython3",
   "version": "3.6.6"
  }
 },
 "nbformat": 4,
 "nbformat_minor": 2
}
