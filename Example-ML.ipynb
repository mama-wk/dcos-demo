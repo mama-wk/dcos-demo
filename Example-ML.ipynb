{
 "cells": [
  {
   "cell_type": "code",
   "execution_count": 1,
   "metadata": {},
   "outputs": [
    {
     "name": "stderr",
     "output_type": "stream",
     "text": [
      "/opt/conda/lib/python3.6/importlib/_bootstrap.py:219: RuntimeWarning: numpy.dtype size changed, may indicate binary incompatibility. Expected 96, got 88\n",
      "  return f(*args, **kwds)\n",
      "Using TensorFlow backend.\n"
     ]
    },
    {
     "data": {
      "application/vnd.jupyter.widget-view+json": {
       "model_id": "0eb5b494f6484a96be284b8a27a998b2",
       "version_major": 2,
       "version_minor": 0
      }
     },
     "metadata": {},
     "output_type": "display_data"
    }
   ],
   "source": [
    "from keras.models import Sequential\n",
    "from keras.layers import Dense\n",
    "import tensorflow as ts\n",
    "import pandas as pd\n",
    "import numpy as np\n",
    "import sklearn.model_selection as sk\n",
    "from beakerx import *\n",
    "\n",
    "df = pd.read_excel('http://biostat.mc.vanderbilt.edu/wiki/pub/Main/DataSets/titanic3.xls', 'titanic3', index_col=None, na_values=['NA'], converters={'ticket':str})[['sex','age','name','cabin','ticket','survived']]\n",
    "\n",
    "table = TableDisplay(df)\n",
    "table.setStringFormatForTimes(TimeUnit.DAYS)\n",
    "table.setStringFormatForType(ColumnType.Double, TableDisplayStringFormat.getDecimalFormat(4,6))\n",
    "table.setStringFormatForColumn(\"m3\", TableDisplayStringFormat.getDecimalFormat(0, 0))\n",
    "table"
   ]
  },
  {
   "cell_type": "code",
   "execution_count": 2,
   "metadata": {},
   "outputs": [
    {
     "data": {
      "application/vnd.jupyter.widget-view+json": {
       "model_id": "8c20612c500340d9bef95e42d170bb68",
       "version_major": 2,
       "version_minor": 0
      }
     },
     "metadata": {},
     "output_type": "display_data"
    }
   ],
   "source": [
    "x = df.loc[:,['survived', 'sex']]\n",
    "x['age'] = df.loc[:, 'age'].round(-1)\n",
    "\n",
    "m_mean = x.query('age>=0 & age<70 & sex==\"male\"').groupby(['age']).mean()\n",
    "m_std = x.query('age>=0 & age<70 & sex==\"male\"').groupby(['age']).std() \n",
    "m_low = m_mean - m_std\n",
    "m_hi = m_mean + m_std \n",
    "\n",
    "f_mean = x.query('age>=0 & age<70 & sex==\"female\"').groupby(['age']).mean() \n",
    "f_std = x.query('age>=0 & age<70 & sex==\"female\"').groupby(['age']).std()\n",
    "f_low = f_mean - f_std\n",
    "f_hi  = f_mean + f_std\n",
    "\n",
    "p = Plot()\n",
    "p.add(Line(y= f_mean.survived, displayName= \"Female Survival Rate\"))\n",
    "p.add(Area(y= f_low.values.tolist(), base= f_hi.values.tolist(),\n",
    "              color= Color(0, 30, 0, 0), displayName= \"1 Standard Deviation Female\"))\n",
    "p.add(Line(y= m_mean.survived, displayName= \"Male Survival Rate\"))\n",
    "p.add(Area(y= m_low.values.tolist(), base= m_hi.values.tolist(),\n",
    "              color= Color(255, 0, 0, 50), displayName= \"1 Standard Deviation Male\"))\n"
   ]
  },
  {
   "cell_type": "code",
   "execution_count": 3,
   "metadata": {},
   "outputs": [],
   "source": [
    "# pandas and regex magic to extract the title of the passenger into a 'title' column\n",
    "df['title'] = df['name'].str.extract('.*, (.*).', expand=False)\n",
    "x_all = pd.get_dummies(df['title'])\n",
    "y_all = np.array([ [y==1, y==0] for y in df.survived]).astype(int)"
   ]
  },
  {
   "cell_type": "code",
   "execution_count": 4,
   "metadata": {},
   "outputs": [],
   "source": [
    "X_train, X_test, y_train, y_test = sk.train_test_split(x_all, y_all, test_size=0.33, random_state=42)"
   ]
  },
  {
   "cell_type": "code",
   "execution_count": 5,
   "metadata": {},
   "outputs": [],
   "source": [
    "model = Sequential()\n",
    "model.add(Dense(units=32, input_dim = len(x_all.columns)))\n",
    "model.add(Dense(units=32, input_dim = len(x_all.columns)))\n",
    "model.add(Dense(units=2, activation='softmax'))\n",
    "model.compile(loss='categorical_crossentropy', optimizer='sgd', metrics=['accuracy'])"
   ]
  },
  {
   "cell_type": "code",
   "execution_count": 6,
   "metadata": {},
   "outputs": [
    {
     "name": "stderr",
     "output_type": "stream",
     "text": [
      "/opt/conda/lib/python3.6/site-packages/ipykernel_launcher.py:1: FutureWarning: Method .as_matrix will be removed in a future version. Use .values instead.\n",
      "  \"\"\"Entry point for launching an IPython kernel.\n"
     ]
    }
   ],
   "source": [
    "predictions = model.predict(X_test.as_matrix())"
   ]
  },
  {
   "cell_type": "code",
   "execution_count": 7,
   "metadata": {},
   "outputs": [],
   "source": [
    "# assign the softmax probabilities to a boolean e.g. true or false\n",
    "predictions_bool = predictions[:,0] > 0.5\n",
    "# do the same for the response\n",
    "y_test_bool = y_test[:,0] ==1\n",
    "accuracy = sum(predictions_bool == y_test_bool) / len(y_test_bool)"
   ]
  },
  {
   "cell_type": "code",
   "execution_count": 8,
   "metadata": {},
   "outputs": [
    {
     "name": "stdout",
     "output_type": "stream",
     "text": [
      "0.47685185185185186\n"
     ]
    }
   ],
   "source": [
    "print(accuracy)"
   ]
  },
  {
   "cell_type": "code",
   "execution_count": null,
   "metadata": {},
   "outputs": [],
   "source": []
  }
 ],
 "metadata": {
  "kernelspec": {
   "display_name": "Python 3",
   "language": "python",
   "name": "python3"
  },
  "language_info": {
   "codemirror_mode": {
    "name": "ipython",
    "version": 3
   },
   "file_extension": ".py",
   "mimetype": "text/x-python",
   "name": "python",
   "nbconvert_exporter": "python",
   "pygments_lexer": "ipython3",
   "version": "3.6.6"
  }
 },
 "nbformat": 4,
 "nbformat_minor": 2
}
